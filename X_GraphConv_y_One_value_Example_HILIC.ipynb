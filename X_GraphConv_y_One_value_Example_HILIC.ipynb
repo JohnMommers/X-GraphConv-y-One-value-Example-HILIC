{
  "nbformat": 4,
  "nbformat_minor": 0,
  "metadata": {
    "colab": {
      "name": "X_GraphConv_y_One_value_Example_HILIC.ipynb",
      "provenance": [],
      "collapsed_sections": [],
      "include_colab_link": true
    },
    "kernelspec": {
      "display_name": "Python 3",
      "language": "python",
      "name": "python3"
    },
    "language_info": {
      "codemirror_mode": {
        "name": "ipython",
        "version": 3
      },
      "file_extension": ".py",
      "mimetype": "text/x-python",
      "name": "python",
      "nbconvert_exporter": "python",
      "pygments_lexer": "ipython3",
      "version": "3.7.6"
    }
  },
  "cells": [
    {
      "cell_type": "markdown",
      "metadata": {
        "id": "view-in-github",
        "colab_type": "text"
      },
      "source": [
        "<a href=\"https://colab.research.google.com/github/JohnMommers/X-GraphConv-y-One-value-Example-HILIC/blob/main/X_GraphConv_y_One_value_Example_HILIC.ipynb\" target=\"_parent\"><img src=\"https://colab.research.google.com/assets/colab-badge.svg\" alt=\"Open In Colab\"/></a>"
      ]
    },
    {
      "cell_type": "markdown",
      "metadata": {
        "id": "GXK7R5hYyWe1"
      },
      "source": [
        "TEMPLATE: example HILIC DATA (own data from Excel file)  \r\n",
        "Data from: https://pubs.acs.org/doi/10.1021/acs.analchem.9b05765  \r\n",
        "Publication: Anal. Chem. 2020, 92, 11, 7515–7522  \r\n",
        "\r\n",
        "X=  GraphConv (featurized from smiles) \r\n",
        "y=  1 value: retention time   \r\n",
        "MODEL = GraphConvModel / 'regression'"
      ]
    },
    {
      "cell_type": "code",
      "metadata": {
        "colab": {
          "base_uri": "https://localhost:8080/"
        },
        "id": "OyxRVW5X5zF0",
        "outputId": "3ee1dfc3-8cd0-4904-abc8-135f87b809c9"
      },
      "source": [
        "# install\n",
        "!curl -Lo conda_installer.py https://raw.githubusercontent.com/deepchem/deepchem/master/scripts/colab_install.py\n",
        "import conda_installer\n",
        "conda_installer.install()\n",
        "!/root/miniconda/bin/conda info -e"
      ],
      "execution_count": 3,
      "outputs": [
        {
          "output_type": "stream",
          "text": [
            "  % Total    % Received % Xferd  Average Speed   Time    Time     Time  Current\n",
            "                                 Dload  Upload   Total   Spent    Left  Speed\n",
            "\r  0     0    0     0    0     0      0      0 --:--:-- --:--:-- --:--:--     0\r100  3490  100  3490    0     0  19281      0 --:--:-- --:--:-- --:--:-- 19281\n"
          ],
          "name": "stdout"
        },
        {
          "output_type": "stream",
          "text": [
            "all packages are already installed\n"
          ],
          "name": "stderr"
        },
        {
          "output_type": "stream",
          "text": [
            "# conda environments:\n",
            "#\n",
            "base                  *  /root/miniconda\n",
            "\n"
          ],
          "name": "stdout"
        }
      ]
    },
    {
      "cell_type": "code",
      "metadata": {
        "colab": {
          "base_uri": "https://localhost:8080/"
        },
        "id": "CMWAv-Z46nCc",
        "outputId": "43dfbb17-a361-4838-b1ca-fcc9a6a2f8b1"
      },
      "source": [
        "!pip install --pre deepchem"
      ],
      "execution_count": 4,
      "outputs": [
        {
          "output_type": "stream",
          "text": [
            "Collecting deepchem\n",
            "\u001b[?25l  Downloading https://files.pythonhosted.org/packages/1a/84/d6ff1b559aa20ac254e2e68e1f7cd08c8bcaeb984cdedbfccfaed5aeab87/deepchem-2.5.0.dev20210120055726-py3-none-any.whl (531kB)\n",
            "\u001b[K     |████████████████████████████████| 532kB 4.9MB/s \n",
            "\u001b[?25hRequirement already satisfied: joblib in /usr/local/lib/python3.6/dist-packages (from deepchem) (1.0.0)\n",
            "Requirement already satisfied: numpy in /usr/local/lib/python3.6/dist-packages (from deepchem) (1.19.5)\n",
            "Requirement already satisfied: pandas in /usr/local/lib/python3.6/dist-packages (from deepchem) (1.1.5)\n",
            "Requirement already satisfied: scikit-learn in /usr/local/lib/python3.6/dist-packages (from deepchem) (0.22.2.post1)\n",
            "Requirement already satisfied: scipy in /usr/local/lib/python3.6/dist-packages (from deepchem) (1.4.1)\n",
            "Requirement already satisfied: python-dateutil>=2.7.3 in /usr/local/lib/python3.6/dist-packages (from pandas->deepchem) (2.8.1)\n",
            "Requirement already satisfied: pytz>=2017.2 in /usr/local/lib/python3.6/dist-packages (from pandas->deepchem) (2018.9)\n",
            "Requirement already satisfied: six>=1.5 in /usr/local/lib/python3.6/dist-packages (from python-dateutil>=2.7.3->pandas->deepchem) (1.15.0)\n",
            "Installing collected packages: deepchem\n",
            "Successfully installed deepchem-2.5.0.dev20210120055726\n"
          ],
          "name": "stdout"
        }
      ]
    },
    {
      "cell_type": "code",
      "metadata": {
        "colab": {
          "base_uri": "https://localhost:8080/",
          "height": 35
        },
        "id": "PDiY03h35zF_",
        "outputId": "41aaacdc-3f86-4566-df52-d27b3236a2f3"
      },
      "source": [
        "import deepchem as dc\n",
        "dc.__version__"
      ],
      "execution_count": 5,
      "outputs": [
        {
          "output_type": "execute_result",
          "data": {
            "application/vnd.google.colaboratory.intrinsic+json": {
              "type": "string"
            },
            "text/plain": [
              "'2.5.0.dev'"
            ]
          },
          "metadata": {
            "tags": []
          },
          "execution_count": 5
        }
      ]
    },
    {
      "cell_type": "code",
      "metadata": {
        "colab": {
          "base_uri": "https://localhost:8080/"
        },
        "id": "WZPbcIrI49Ld",
        "outputId": "dff77afc-f73f-4d99-d75c-0eb586e248c5"
      },
      "source": [
        "from google.colab import drive\n",
        "drive.mount('/content/drive')"
      ],
      "execution_count": 59,
      "outputs": [
        {
          "output_type": "stream",
          "text": [
            "Drive already mounted at /content/drive; to attempt to forcibly remount, call drive.mount(\"/content/drive\", force_remount=True).\n"
          ],
          "name": "stdout"
        }
      ]
    },
    {
      "cell_type": "code",
      "metadata": {
        "id": "mNhvZ2CuwVjg"
      },
      "source": [
        "# predicting solubility of small molecules given their chemical formulas\r\n",
        "# Delaney solubility data set"
      ],
      "execution_count": 6,
      "outputs": []
    },
    {
      "cell_type": "markdown",
      "metadata": {
        "id": "Ab4eiAdh7T_5"
      },
      "source": [
        "USING OWN DATASET"
      ]
    },
    {
      "cell_type": "code",
      "metadata": {
        "id": "6Sze23KL48TK"
      },
      "source": [
        "import pandas as pd\r\n",
        "import numpy as np"
      ],
      "execution_count": 187,
      "outputs": []
    },
    {
      "cell_type": "code",
      "metadata": {
        "colab": {
          "base_uri": "https://localhost:8080/",
          "height": 1000
        },
        "id": "8TuURAvz48QC",
        "outputId": "3e329192-03b6-47d0-ea40-d10124798459"
      },
      "source": [
        "raw_data_excel = pd.ExcelFile('/content/drive/MyDrive/HILLIC/Hillic_Dataset.xlsx')\r\n",
        "\r\n",
        "# second sheet only\r\n",
        "raw_data = raw_data_excel.parse(raw_data_excel.sheet_names[0])\r\n",
        "raw_data.head(50)"
      ],
      "execution_count": 188,
      "outputs": [
        {
          "output_type": "execute_result",
          "data": {
            "text/html": [
              "<div>\n",
              "<style scoped>\n",
              "    .dataframe tbody tr th:only-of-type {\n",
              "        vertical-align: middle;\n",
              "    }\n",
              "\n",
              "    .dataframe tbody tr th {\n",
              "        vertical-align: top;\n",
              "    }\n",
              "\n",
              "    .dataframe thead th {\n",
              "        text-align: right;\n",
              "    }\n",
              "</style>\n",
              "<table border=\"1\" class=\"dataframe\">\n",
              "  <thead>\n",
              "    <tr style=\"text-align: right;\">\n",
              "      <th></th>\n",
              "      <th>NAME</th>\n",
              "      <th>SMILES</th>\n",
              "      <th>RETENTION TIME</th>\n",
              "    </tr>\n",
              "  </thead>\n",
              "  <tbody>\n",
              "    <tr>\n",
              "      <th>0</th>\n",
              "      <td>(2-oxo-2,3-dihydro-1H-indol-3-yl)acetic acid</td>\n",
              "      <td>C1=CC=C2C(=C1)C(C(=O)N2)CC(=O)O</td>\n",
              "      <td>2.019083</td>\n",
              "    </tr>\n",
              "    <tr>\n",
              "      <th>1</th>\n",
              "      <td>1,1-Dimethyl-4-phenylpiperazinium</td>\n",
              "      <td>CC1C(NC(CN1)C2=CC=CC=C2)C</td>\n",
              "      <td>2.607950</td>\n",
              "    </tr>\n",
              "    <tr>\n",
              "      <th>2</th>\n",
              "      <td>1,2-Cyclohexanediol</td>\n",
              "      <td>C1CCC(C(C1)O)O</td>\n",
              "      <td>4.876550</td>\n",
              "    </tr>\n",
              "    <tr>\n",
              "      <th>3</th>\n",
              "      <td>1,2-Cyclohexanedione</td>\n",
              "      <td>C1CCC(=O)C(=O)C1</td>\n",
              "      <td>5.772267</td>\n",
              "    </tr>\n",
              "    <tr>\n",
              "      <th>4</th>\n",
              "      <td>1,3,7-Trimethyluric acid</td>\n",
              "      <td>CN1C2=C(NC1=O)N(C(=O)N(C2=O)C)C</td>\n",
              "      <td>1.827733</td>\n",
              "    </tr>\n",
              "    <tr>\n",
              "      <th>5</th>\n",
              "      <td>1,3 Cyclohexanedione</td>\n",
              "      <td>C1CC(=O)CC(=O)C1</td>\n",
              "      <td>1.473133</td>\n",
              "    </tr>\n",
              "    <tr>\n",
              "      <th>6</th>\n",
              "      <td>1,4-Cyclohexanedicarboxylic acid</td>\n",
              "      <td>C1CC(CCC1C(=O)O)C(=O)O</td>\n",
              "      <td>1.560217</td>\n",
              "    </tr>\n",
              "    <tr>\n",
              "      <th>7</th>\n",
              "      <td>1,4-Cyclohexanedione</td>\n",
              "      <td>C1CC(=O)CCC1=O</td>\n",
              "      <td>1.151700</td>\n",
              "    </tr>\n",
              "    <tr>\n",
              "      <th>8</th>\n",
              "      <td>1,7-Dimethyluric acid</td>\n",
              "      <td>CN1C2=C(NC1=O)NC(=O)N(C2=O)C</td>\n",
              "      <td>4.090533</td>\n",
              "    </tr>\n",
              "    <tr>\n",
              "      <th>9</th>\n",
              "      <td>1-Acetylimidazole</td>\n",
              "      <td>CC(=O)N1C=CN=C1</td>\n",
              "      <td>1.368133</td>\n",
              "    </tr>\n",
              "    <tr>\n",
              "      <th>10</th>\n",
              "      <td>1-Benzylimidazole</td>\n",
              "      <td>C1=CC=C(C=C1)CN2C=CN=C2</td>\n",
              "      <td>1.632483</td>\n",
              "    </tr>\n",
              "    <tr>\n",
              "      <th>11</th>\n",
              "      <td>1-Methylpseudouridine</td>\n",
              "      <td>CN1C=C(C(=O)NC1=O)C2C(C(C(O2)CO)O)O</td>\n",
              "      <td>4.985567</td>\n",
              "    </tr>\n",
              "    <tr>\n",
              "      <th>12</th>\n",
              "      <td>1-Methyltryptophan</td>\n",
              "      <td>CN1C=C(C2=CC=CC=C21)CC(C(=O)O)N</td>\n",
              "      <td>6.378800</td>\n",
              "    </tr>\n",
              "    <tr>\n",
              "      <th>13</th>\n",
              "      <td>16-Glucuronide-estriol</td>\n",
              "      <td>CC12CCC3C(C1CC(C2O)OC4C(C(C(C(O4)C(=O)O)O)O)O)...</td>\n",
              "      <td>6.493533</td>\n",
              "    </tr>\n",
              "    <tr>\n",
              "      <th>14</th>\n",
              "      <td>2',3'-Dideoxyinosine</td>\n",
              "      <td>C1CC(OC1CO)N2C=NC3=C2NC=NC3=O</td>\n",
              "      <td>3.440333</td>\n",
              "    </tr>\n",
              "    <tr>\n",
              "      <th>15</th>\n",
              "      <td>2'-Deoxyadenosine-5'-monophosphate</td>\n",
              "      <td>C1C(C(OC1N2C=NC3=C2N=CN=C3N)COP(=O)(O)O)O</td>\n",
              "      <td>8.626150</td>\n",
              "    </tr>\n",
              "    <tr>\n",
              "      <th>16</th>\n",
              "      <td>2'-Deoxycytidine</td>\n",
              "      <td>C1C(C(OC1N2C=CC(=NC2=O)N)CO)O</td>\n",
              "      <td>5.867533</td>\n",
              "    </tr>\n",
              "    <tr>\n",
              "      <th>17</th>\n",
              "      <td>2'-Deoxyguanosine 3'-monophosphate</td>\n",
              "      <td>C1C(C(OC1N2C=NC3=C2NC(=NC3=O)N)CO)OP(=O)(O)O</td>\n",
              "      <td>9.433050</td>\n",
              "    </tr>\n",
              "    <tr>\n",
              "      <th>18</th>\n",
              "      <td>2'-Deoxyguanosine 5'-monophosphate</td>\n",
              "      <td>C1C(C(OC1N2C=NC3=C2NC(=NC3=O)N)COP(=O)(O)O)O</td>\n",
              "      <td>9.253134</td>\n",
              "    </tr>\n",
              "    <tr>\n",
              "      <th>19</th>\n",
              "      <td>2'-O-Methyl-5-methylcytidine</td>\n",
              "      <td>CC1=CN(C(=O)N=C1N)C2C(C(C(O2)CO)O)OC</td>\n",
              "      <td>4.930950</td>\n",
              "    </tr>\n",
              "    <tr>\n",
              "      <th>20</th>\n",
              "      <td>2'-O-Methyl-5-methyluridine</td>\n",
              "      <td>CC1=CN(C(=O)NC1=O)C2C(C(C(O2)CO)O)OC</td>\n",
              "      <td>1.747817</td>\n",
              "    </tr>\n",
              "    <tr>\n",
              "      <th>21</th>\n",
              "      <td>2'-O-Methyladenosine</td>\n",
              "      <td>COC1C(C(OC1N2C=NC3=C2N=CN=C3N)CO)O</td>\n",
              "      <td>2.599517</td>\n",
              "    </tr>\n",
              "    <tr>\n",
              "      <th>22</th>\n",
              "      <td>2'-O-Methylcytidine</td>\n",
              "      <td>COC1C(C(OC1N2C=CC(=NC2=O)N)CO)O</td>\n",
              "      <td>5.020566</td>\n",
              "    </tr>\n",
              "    <tr>\n",
              "      <th>23</th>\n",
              "      <td>2'-O-Methylguanosine</td>\n",
              "      <td>COC1C(C(OC1N2C=NC3=C2NC(=NC3=O)N)CO)O</td>\n",
              "      <td>5.721283</td>\n",
              "    </tr>\n",
              "    <tr>\n",
              "      <th>24</th>\n",
              "      <td>2'-O-Methylinosine</td>\n",
              "      <td>COC1C(C(OC1N2C=NC3=C2NC=NC3=O)CO)O</td>\n",
              "      <td>4.063567</td>\n",
              "    </tr>\n",
              "    <tr>\n",
              "      <th>25</th>\n",
              "      <td>2'-O-Methyluridine</td>\n",
              "      <td>COC1C(C(OC1N2C=CC(=O)NC2=O)CO)O</td>\n",
              "      <td>2.244550</td>\n",
              "    </tr>\n",
              "    <tr>\n",
              "      <th>26</th>\n",
              "      <td>2,3-Butanediol</td>\n",
              "      <td>CC(C(C)O)O</td>\n",
              "      <td>3.335817</td>\n",
              "    </tr>\n",
              "    <tr>\n",
              "      <th>27</th>\n",
              "      <td>2,3-Dideoxycytidine</td>\n",
              "      <td>C1CC(OC1CO)N2C=CC(=NC2=O)N</td>\n",
              "      <td>4.539500</td>\n",
              "    </tr>\n",
              "    <tr>\n",
              "      <th>28</th>\n",
              "      <td>2,3-Dideoxyuridine</td>\n",
              "      <td>C1CC(OC1CO)N2C=CC(=O)NC2=O</td>\n",
              "      <td>1.730683</td>\n",
              "    </tr>\n",
              "    <tr>\n",
              "      <th>29</th>\n",
              "      <td>2,6-Diaminopimelic acid</td>\n",
              "      <td>C(CC(C(=O)O)N)CC(C(=O)O)N</td>\n",
              "      <td>9.877600</td>\n",
              "    </tr>\n",
              "    <tr>\n",
              "      <th>30</th>\n",
              "      <td>2,8-Quinolinediol</td>\n",
              "      <td>C1=CC2=C(C(=C1)O)NC(=O)C=C2</td>\n",
              "      <td>1.527183</td>\n",
              "    </tr>\n",
              "    <tr>\n",
              "      <th>31</th>\n",
              "      <td>2-(2-Aminoethyl)pyridine</td>\n",
              "      <td>C1=CC=NC(=C1)CCN</td>\n",
              "      <td>5.521983</td>\n",
              "    </tr>\n",
              "    <tr>\n",
              "      <th>32</th>\n",
              "      <td>2-alpha-Mannobiose</td>\n",
              "      <td>C(C1C(C(C(C(O1)OC2C(C(C(OC2O)CO)O)O)O)O)O)O</td>\n",
              "      <td>9.474850</td>\n",
              "    </tr>\n",
              "    <tr>\n",
              "      <th>33</th>\n",
              "      <td>2-Amino-3-methoxybenzoic acid</td>\n",
              "      <td>COC1=CC=CC(=C1N)C(=O)O</td>\n",
              "      <td>1.274067</td>\n",
              "    </tr>\n",
              "    <tr>\n",
              "      <th>34</th>\n",
              "      <td>2-Aminoacetophenone</td>\n",
              "      <td>C1=CC=C(C=C1)C(=O)CN</td>\n",
              "      <td>1.079283</td>\n",
              "    </tr>\n",
              "    <tr>\n",
              "      <th>35</th>\n",
              "      <td>2-Aminoethanethiol</td>\n",
              "      <td>C(C[S-])[NH3+]</td>\n",
              "      <td>2.048917</td>\n",
              "    </tr>\n",
              "    <tr>\n",
              "      <th>36</th>\n",
              "      <td>2-Aminoethylphosphonic acid</td>\n",
              "      <td>C(CP(=O)(O)O)N</td>\n",
              "      <td>9.391000</td>\n",
              "    </tr>\n",
              "    <tr>\n",
              "      <th>37</th>\n",
              "      <td>2-Aminophenol</td>\n",
              "      <td>C1=CC=C(C(=C1)N)O</td>\n",
              "      <td>1.217150</td>\n",
              "    </tr>\n",
              "    <tr>\n",
              "      <th>38</th>\n",
              "      <td>2-Chloro-N6-cyclopentyladenosine</td>\n",
              "      <td>C1CCC(C1)NC2=NC(=NC3=C2N=CN3C4C(C(C(O4)CO)O)O)Cl</td>\n",
              "      <td>1.473533</td>\n",
              "    </tr>\n",
              "    <tr>\n",
              "      <th>39</th>\n",
              "      <td>2-Chloroadenosine</td>\n",
              "      <td>C1=NC2=C(N1C3C(C(C(O3)CO)O)O)N=C(N=C2N)Cl</td>\n",
              "      <td>2.688733</td>\n",
              "    </tr>\n",
              "    <tr>\n",
              "      <th>40</th>\n",
              "      <td>2-Deoxycytidine-5-monophosphoric acid</td>\n",
              "      <td>C1C(C(OC1N2C=CC(=NC2=O)N)COP(=O)(O)O)O</td>\n",
              "      <td>9.157367</td>\n",
              "    </tr>\n",
              "    <tr>\n",
              "      <th>41</th>\n",
              "      <td>2-Deoxyuridine</td>\n",
              "      <td>C1C(C(OC1N2C=CC(=O)NC2=O)CO)O</td>\n",
              "      <td>2.961367</td>\n",
              "    </tr>\n",
              "    <tr>\n",
              "      <th>42</th>\n",
              "      <td>2-Hexenal</td>\n",
              "      <td>CCCC=CC=O</td>\n",
              "      <td>1.391383</td>\n",
              "    </tr>\n",
              "    <tr>\n",
              "      <th>43</th>\n",
              "      <td>2-Hydroxyacetophenone</td>\n",
              "      <td>C1=CC=C(C=C1)C(=O)CO</td>\n",
              "      <td>4.363717</td>\n",
              "    </tr>\n",
              "    <tr>\n",
              "      <th>44</th>\n",
              "      <td>2-Hydroxychalcone</td>\n",
              "      <td>C1=CC=C(C=C1)C(=O)C=CC2=CC=CC=C2O</td>\n",
              "      <td>1.014250</td>\n",
              "    </tr>\n",
              "    <tr>\n",
              "      <th>45</th>\n",
              "      <td>2-Hydroxyquinoline</td>\n",
              "      <td>C1=CC=C2C(=C1)C=CC(=O)N2</td>\n",
              "      <td>1.511300</td>\n",
              "    </tr>\n",
              "    <tr>\n",
              "      <th>46</th>\n",
              "      <td>2-Methoxy-4-vinylphenol</td>\n",
              "      <td>COC1=C(C=CC(=C1)C=C)O</td>\n",
              "      <td>8.708667</td>\n",
              "    </tr>\n",
              "    <tr>\n",
              "      <th>47</th>\n",
              "      <td>2-Phenylacetamide</td>\n",
              "      <td>C1=CC=C(C=C1)CC(=O)N</td>\n",
              "      <td>1.256583</td>\n",
              "    </tr>\n",
              "    <tr>\n",
              "      <th>48</th>\n",
              "      <td>2-Propanamidoacetic acid</td>\n",
              "      <td>CCC(=O)NCC(=O)O</td>\n",
              "      <td>5.372817</td>\n",
              "    </tr>\n",
              "    <tr>\n",
              "      <th>49</th>\n",
              "      <td>2-Pyridone</td>\n",
              "      <td>C1=CC(=O)NC=C1</td>\n",
              "      <td>2.048917</td>\n",
              "    </tr>\n",
              "  </tbody>\n",
              "</table>\n",
              "</div>"
            ],
            "text/plain": [
              "                                            NAME  ... RETENTION TIME\n",
              "0   (2-oxo-2,3-dihydro-1H-indol-3-yl)acetic acid  ...       2.019083\n",
              "1              1,1-Dimethyl-4-phenylpiperazinium  ...       2.607950\n",
              "2                            1,2-Cyclohexanediol  ...       4.876550\n",
              "3                           1,2-Cyclohexanedione  ...       5.772267\n",
              "4                       1,3,7-Trimethyluric acid  ...       1.827733\n",
              "5                           1,3 Cyclohexanedione  ...       1.473133\n",
              "6               1,4-Cyclohexanedicarboxylic acid  ...       1.560217\n",
              "7                           1,4-Cyclohexanedione  ...       1.151700\n",
              "8                          1,7-Dimethyluric acid  ...       4.090533\n",
              "9                              1-Acetylimidazole  ...       1.368133\n",
              "10                             1-Benzylimidazole  ...       1.632483\n",
              "11                         1-Methylpseudouridine  ...       4.985567\n",
              "12                            1-Methyltryptophan  ...       6.378800\n",
              "13                        16-Glucuronide-estriol  ...       6.493533\n",
              "14                          2',3'-Dideoxyinosine  ...       3.440333\n",
              "15            2'-Deoxyadenosine-5'-monophosphate  ...       8.626150\n",
              "16                              2'-Deoxycytidine  ...       5.867533\n",
              "17            2'-Deoxyguanosine 3'-monophosphate  ...       9.433050\n",
              "18            2'-Deoxyguanosine 5'-monophosphate  ...       9.253134\n",
              "19                  2'-O-Methyl-5-methylcytidine  ...       4.930950\n",
              "20                   2'-O-Methyl-5-methyluridine  ...       1.747817\n",
              "21                          2'-O-Methyladenosine  ...       2.599517\n",
              "22                           2'-O-Methylcytidine  ...       5.020566\n",
              "23                          2'-O-Methylguanosine  ...       5.721283\n",
              "24                            2'-O-Methylinosine  ...       4.063567\n",
              "25                            2'-O-Methyluridine  ...       2.244550\n",
              "26                                2,3-Butanediol  ...       3.335817\n",
              "27                           2,3-Dideoxycytidine  ...       4.539500\n",
              "28                            2,3-Dideoxyuridine  ...       1.730683\n",
              "29                       2,6-Diaminopimelic acid  ...       9.877600\n",
              "30                             2,8-Quinolinediol  ...       1.527183\n",
              "31                      2-(2-Aminoethyl)pyridine  ...       5.521983\n",
              "32                            2-alpha-Mannobiose  ...       9.474850\n",
              "33                 2-Amino-3-methoxybenzoic acid  ...       1.274067\n",
              "34                           2-Aminoacetophenone  ...       1.079283\n",
              "35                            2-Aminoethanethiol  ...       2.048917\n",
              "36                   2-Aminoethylphosphonic acid  ...       9.391000\n",
              "37                                 2-Aminophenol  ...       1.217150\n",
              "38              2-Chloro-N6-cyclopentyladenosine  ...       1.473533\n",
              "39                             2-Chloroadenosine  ...       2.688733\n",
              "40         2-Deoxycytidine-5-monophosphoric acid  ...       9.157367\n",
              "41                                2-Deoxyuridine  ...       2.961367\n",
              "42                                     2-Hexenal  ...       1.391383\n",
              "43                         2-Hydroxyacetophenone  ...       4.363717\n",
              "44                             2-Hydroxychalcone  ...       1.014250\n",
              "45                            2-Hydroxyquinoline  ...       1.511300\n",
              "46                       2-Methoxy-4-vinylphenol  ...       8.708667\n",
              "47                             2-Phenylacetamide  ...       1.256583\n",
              "48                      2-Propanamidoacetic acid  ...       5.372817\n",
              "49                                    2-Pyridone  ...       2.048917\n",
              "\n",
              "[50 rows x 3 columns]"
            ]
          },
          "metadata": {
            "tags": []
          },
          "execution_count": 188
        }
      ]
    },
    {
      "cell_type": "code",
      "metadata": {
        "id": "zN1KgzU8XyQm"
      },
      "source": [
        "X = raw_data['SMILES'] \r\n",
        "y = raw_data['RETENTION TIME']   \r\n",
        "\r\n",
        "# NumpyDataset (for small datasets)\r\n",
        "#dataset = dc.data.NumpyDataset(X,y)\r\n",
        "\r\n",
        "# DiskDataset (for large datasets) \r\n",
        "dataset = dc.data.DiskDataset.from_numpy(X,y)"
      ],
      "execution_count": 189,
      "outputs": []
    },
    {
      "cell_type": "code",
      "metadata": {
        "colab": {
          "base_uri": "https://localhost:8080/"
        },
        "id": "SIebm8h148Fi",
        "outputId": "69007eed-61bf-4775-e560-9966d6355596"
      },
      "source": [
        "# featurizing\r\n",
        "  \r\n",
        "#featurizer = dc.feat.CircularFingerprint(radius=1, size=2048)\r\n",
        "featurizer = dc.feat.ConvMolFeaturizer( )\r\n",
        "#featurizer = dc.feat.MolGraphConvFeaturizer(use_edges=True)\r\n",
        "features = featurizer.featurize(dataset.X)\r\n",
        "dataset = dc.data.NumpyDataset(X=features, y=np.array(dataset.y))\r\n",
        "dataset"
      ],
      "execution_count": 190,
      "outputs": [
        {
          "output_type": "execute_result",
          "data": {
            "text/plain": [
              "<NumpyDataset X.shape: (880,), y.shape: (880,), w.shape: (880,), ids: [0 1 2 ... 877 878 879], task_names: [0]>"
            ]
          },
          "metadata": {
            "tags": []
          },
          "execution_count": 190
        }
      ]
    },
    {
      "cell_type": "code",
      "metadata": {
        "id": "ExAZZt0R9K6D"
      },
      "source": [
        "# EXAMPLE: RANDOM STRATIFIED SPLITTER: FOR VERY UMBALANCED DATA; IT DIVIDES THE POS AND NEG SAMPLES EVENLY\r\n",
        "# DO NOT USE FOR SMALL OR IMBALANCED DATA\r\n",
        "# MANY OTHER SPLITTERS ARE AVAILABLE !!!\r\n",
        "\r\n",
        "splitter = dc.splits.RandomStratifiedSplitter()\r\n",
        "train_dataset, valid_dataset, test_dataset = splitter.train_valid_test_split(  \r\n",
        "    dataset=dataset, frac_train=0.6, frac_valid=0.2, frac_test=0.2\r\n",
        ")"
      ],
      "execution_count": 191,
      "outputs": []
    },
    {
      "cell_type": "code",
      "metadata": {
        "id": "saTaOpXY5zGI"
      },
      "source": [
        "# load data \n",
        "#train_dataset, valid_dataset, test_dataset = datasets\n",
        "# get 3 datasets: train, valid and test\n"
      ],
      "execution_count": 95,
      "outputs": []
    },
    {
      "cell_type": "code",
      "metadata": {
        "id": "YEDcUsz35zGO"
      },
      "source": [
        "# Create the model: graph convolutional\r\n",
        "model = dc.models.GraphConvModel(n_tasks=1, mode='regression', dropout=0.2)"
      ],
      "execution_count": 192,
      "outputs": []
    },
    {
      "cell_type": "code",
      "metadata": {
        "colab": {
          "base_uri": "https://localhost:8080/"
        },
        "id": "e5K3rdGV5zGg",
        "outputId": "f91b8acb-8b5e-4dde-b21c-14bb22ac0cfe"
      },
      "source": [
        "# Train the model\r\n",
        "model.fit(train_dataset, nb_epoch=100)"
      ],
      "execution_count": 193,
      "outputs": [
        {
          "output_type": "stream",
          "text": [
            "/usr/local/lib/python3.6/dist-packages/tensorflow/python/framework/indexed_slices.py:437: UserWarning: Converting sparse IndexedSlices(IndexedSlices(indices=Tensor(\"gradient_tape/private__graph_conv_keras_model_7/graph_pool_15/Reshape_14:0\", shape=(447,), dtype=int32), values=Tensor(\"gradient_tape/private__graph_conv_keras_model_7/graph_pool_15/Reshape_13:0\", shape=(447, 64), dtype=float32), dense_shape=Tensor(\"gradient_tape/private__graph_conv_keras_model_7/graph_pool_15/Cast_4:0\", shape=(2,), dtype=int32))) to a dense Tensor of unknown shape. This may consume a large amount of memory.\n",
            "  \"shape. This may consume a large amount of memory.\" % value)\n",
            "/usr/local/lib/python3.6/dist-packages/tensorflow/python/framework/indexed_slices.py:437: UserWarning: Converting sparse IndexedSlices(IndexedSlices(indices=Tensor(\"gradient_tape/private__graph_conv_keras_model_7/graph_pool_15/Reshape_17:0\", shape=(1944,), dtype=int32), values=Tensor(\"gradient_tape/private__graph_conv_keras_model_7/graph_pool_15/Reshape_16:0\", shape=(1944, 64), dtype=float32), dense_shape=Tensor(\"gradient_tape/private__graph_conv_keras_model_7/graph_pool_15/Cast_5:0\", shape=(2,), dtype=int32))) to a dense Tensor of unknown shape. This may consume a large amount of memory.\n",
            "  \"shape. This may consume a large amount of memory.\" % value)\n",
            "/usr/local/lib/python3.6/dist-packages/tensorflow/python/framework/indexed_slices.py:437: UserWarning: Converting sparse IndexedSlices(IndexedSlices(indices=Tensor(\"gradient_tape/private__graph_conv_keras_model_7/graph_pool_15/Reshape_20:0\", shape=(1905,), dtype=int32), values=Tensor(\"gradient_tape/private__graph_conv_keras_model_7/graph_pool_15/Reshape_19:0\", shape=(1905, 64), dtype=float32), dense_shape=Tensor(\"gradient_tape/private__graph_conv_keras_model_7/graph_pool_15/Cast_6:0\", shape=(2,), dtype=int32))) to a dense Tensor of unknown shape. This may consume a large amount of memory.\n",
            "  \"shape. This may consume a large amount of memory.\" % value)\n",
            "/usr/local/lib/python3.6/dist-packages/tensorflow/python/framework/indexed_slices.py:437: UserWarning: Converting sparse IndexedSlices(IndexedSlices(indices=Tensor(\"gradient_tape/private__graph_conv_keras_model_7/graph_pool_15/Reshape_23:0\", shape=(192,), dtype=int32), values=Tensor(\"gradient_tape/private__graph_conv_keras_model_7/graph_pool_15/Reshape_22:0\", shape=(192, 64), dtype=float32), dense_shape=Tensor(\"gradient_tape/private__graph_conv_keras_model_7/graph_pool_15/Cast_7:0\", shape=(2,), dtype=int32))) to a dense Tensor of unknown shape. This may consume a large amount of memory.\n",
            "  \"shape. This may consume a large amount of memory.\" % value)\n",
            "/usr/local/lib/python3.6/dist-packages/tensorflow/python/framework/indexed_slices.py:437: UserWarning: Converting sparse IndexedSlices(IndexedSlices(indices=Tensor(\"gradient_tape/private__graph_conv_keras_model_7/graph_conv_15/Reshape_11:0\", shape=(447,), dtype=int32), values=Tensor(\"gradient_tape/private__graph_conv_keras_model_7/graph_conv_15/Reshape_10:0\", shape=(447, 64), dtype=float32), dense_shape=Tensor(\"gradient_tape/private__graph_conv_keras_model_7/graph_conv_15/Cast:0\", shape=(2,), dtype=int32))) to a dense Tensor of unknown shape. This may consume a large amount of memory.\n",
            "  \"shape. This may consume a large amount of memory.\" % value)\n",
            "/usr/local/lib/python3.6/dist-packages/tensorflow/python/framework/indexed_slices.py:437: UserWarning: Converting sparse IndexedSlices(IndexedSlices(indices=Tensor(\"gradient_tape/private__graph_conv_keras_model_7/graph_conv_15/Reshape_13:0\", shape=(1944,), dtype=int32), values=Tensor(\"gradient_tape/private__graph_conv_keras_model_7/graph_conv_15/Reshape_12:0\", shape=(1944, 64), dtype=float32), dense_shape=Tensor(\"gradient_tape/private__graph_conv_keras_model_7/graph_conv_15/Cast_1:0\", shape=(2,), dtype=int32))) to a dense Tensor of unknown shape. This may consume a large amount of memory.\n",
            "  \"shape. This may consume a large amount of memory.\" % value)\n",
            "/usr/local/lib/python3.6/dist-packages/tensorflow/python/framework/indexed_slices.py:437: UserWarning: Converting sparse IndexedSlices(IndexedSlices(indices=Tensor(\"gradient_tape/private__graph_conv_keras_model_7/graph_conv_15/Reshape_15:0\", shape=(1905,), dtype=int32), values=Tensor(\"gradient_tape/private__graph_conv_keras_model_7/graph_conv_15/Reshape_14:0\", shape=(1905, 64), dtype=float32), dense_shape=Tensor(\"gradient_tape/private__graph_conv_keras_model_7/graph_conv_15/Cast_2:0\", shape=(2,), dtype=int32))) to a dense Tensor of unknown shape. This may consume a large amount of memory.\n",
            "  \"shape. This may consume a large amount of memory.\" % value)\n",
            "/usr/local/lib/python3.6/dist-packages/tensorflow/python/framework/indexed_slices.py:437: UserWarning: Converting sparse IndexedSlices(IndexedSlices(indices=Tensor(\"gradient_tape/private__graph_conv_keras_model_7/graph_conv_15/Reshape_17:0\", shape=(192,), dtype=int32), values=Tensor(\"gradient_tape/private__graph_conv_keras_model_7/graph_conv_15/Reshape_16:0\", shape=(192, 64), dtype=float32), dense_shape=Tensor(\"gradient_tape/private__graph_conv_keras_model_7/graph_conv_15/Cast_3:0\", shape=(2,), dtype=int32))) to a dense Tensor of unknown shape. This may consume a large amount of memory.\n",
            "  \"shape. This may consume a large amount of memory.\" % value)\n",
            "/usr/local/lib/python3.6/dist-packages/tensorflow/python/framework/indexed_slices.py:437: UserWarning: Converting sparse IndexedSlices(IndexedSlices(indices=Tensor(\"gradient_tape/private__graph_conv_keras_model_7/graph_conv_15/Reshape_19:0\", shape=(0,), dtype=int32), values=Tensor(\"gradient_tape/private__graph_conv_keras_model_7/graph_conv_15/Reshape_18:0\", shape=(0, 64), dtype=float32), dense_shape=Tensor(\"gradient_tape/private__graph_conv_keras_model_7/graph_conv_15/Cast_4:0\", shape=(2,), dtype=int32))) to a dense Tensor of unknown shape. This may consume a large amount of memory.\n",
            "  \"shape. This may consume a large amount of memory.\" % value)\n",
            "/usr/local/lib/python3.6/dist-packages/tensorflow/python/framework/indexed_slices.py:437: UserWarning: Converting sparse IndexedSlices(IndexedSlices(indices=Tensor(\"gradient_tape/private__graph_conv_keras_model_7/graph_conv_15/Reshape_21:0\", shape=(0,), dtype=int32), values=Tensor(\"gradient_tape/private__graph_conv_keras_model_7/graph_conv_15/Reshape_20:0\", shape=(0, 64), dtype=float32), dense_shape=Tensor(\"gradient_tape/private__graph_conv_keras_model_7/graph_conv_15/Cast_5:0\", shape=(2,), dtype=int32))) to a dense Tensor of unknown shape. This may consume a large amount of memory.\n",
            "  \"shape. This may consume a large amount of memory.\" % value)\n",
            "/usr/local/lib/python3.6/dist-packages/tensorflow/python/framework/indexed_slices.py:437: UserWarning: Converting sparse IndexedSlices(IndexedSlices(indices=Tensor(\"gradient_tape/private__graph_conv_keras_model_7/graph_conv_15/Reshape_23:0\", shape=(0,), dtype=int32), values=Tensor(\"gradient_tape/private__graph_conv_keras_model_7/graph_conv_15/Reshape_22:0\", shape=(0, 64), dtype=float32), dense_shape=Tensor(\"gradient_tape/private__graph_conv_keras_model_7/graph_conv_15/Cast_6:0\", shape=(2,), dtype=int32))) to a dense Tensor of unknown shape. This may consume a large amount of memory.\n",
            "  \"shape. This may consume a large amount of memory.\" % value)\n",
            "/usr/local/lib/python3.6/dist-packages/tensorflow/python/framework/indexed_slices.py:437: UserWarning: Converting sparse IndexedSlices(IndexedSlices(indices=Tensor(\"gradient_tape/private__graph_conv_keras_model_7/graph_conv_15/Reshape_25:0\", shape=(0,), dtype=int32), values=Tensor(\"gradient_tape/private__graph_conv_keras_model_7/graph_conv_15/Reshape_24:0\", shape=(0, 64), dtype=float32), dense_shape=Tensor(\"gradient_tape/private__graph_conv_keras_model_7/graph_conv_15/Cast_7:0\", shape=(2,), dtype=int32))) to a dense Tensor of unknown shape. This may consume a large amount of memory.\n",
            "  \"shape. This may consume a large amount of memory.\" % value)\n",
            "/usr/local/lib/python3.6/dist-packages/tensorflow/python/framework/indexed_slices.py:437: UserWarning: Converting sparse IndexedSlices(IndexedSlices(indices=Tensor(\"gradient_tape/private__graph_conv_keras_model_7/graph_conv_15/Reshape_27:0\", shape=(0,), dtype=int32), values=Tensor(\"gradient_tape/private__graph_conv_keras_model_7/graph_conv_15/Reshape_26:0\", shape=(0, 64), dtype=float32), dense_shape=Tensor(\"gradient_tape/private__graph_conv_keras_model_7/graph_conv_15/Cast_8:0\", shape=(2,), dtype=int32))) to a dense Tensor of unknown shape. This may consume a large amount of memory.\n",
            "  \"shape. This may consume a large amount of memory.\" % value)\n",
            "/usr/local/lib/python3.6/dist-packages/tensorflow/python/framework/indexed_slices.py:437: UserWarning: Converting sparse IndexedSlices(IndexedSlices(indices=Tensor(\"gradient_tape/private__graph_conv_keras_model_7/graph_conv_15/Reshape_29:0\", shape=(0,), dtype=int32), values=Tensor(\"gradient_tape/private__graph_conv_keras_model_7/graph_conv_15/Reshape_28:0\", shape=(0, 64), dtype=float32), dense_shape=Tensor(\"gradient_tape/private__graph_conv_keras_model_7/graph_conv_15/Cast_9:0\", shape=(2,), dtype=int32))) to a dense Tensor of unknown shape. This may consume a large amount of memory.\n",
            "  \"shape. This may consume a large amount of memory.\" % value)\n",
            "/usr/local/lib/python3.6/dist-packages/tensorflow/python/framework/indexed_slices.py:437: UserWarning: Converting sparse IndexedSlices(IndexedSlices(indices=Tensor(\"gradient_tape/private__graph_conv_keras_model_7/graph_pool_14/Reshape_14:0\", shape=(447,), dtype=int32), values=Tensor(\"gradient_tape/private__graph_conv_keras_model_7/graph_pool_14/Reshape_13:0\", shape=(447, 64), dtype=float32), dense_shape=Tensor(\"gradient_tape/private__graph_conv_keras_model_7/graph_pool_14/Cast_4:0\", shape=(2,), dtype=int32))) to a dense Tensor of unknown shape. This may consume a large amount of memory.\n",
            "  \"shape. This may consume a large amount of memory.\" % value)\n",
            "/usr/local/lib/python3.6/dist-packages/tensorflow/python/framework/indexed_slices.py:437: UserWarning: Converting sparse IndexedSlices(IndexedSlices(indices=Tensor(\"gradient_tape/private__graph_conv_keras_model_7/graph_pool_14/Reshape_17:0\", shape=(1944,), dtype=int32), values=Tensor(\"gradient_tape/private__graph_conv_keras_model_7/graph_pool_14/Reshape_16:0\", shape=(1944, 64), dtype=float32), dense_shape=Tensor(\"gradient_tape/private__graph_conv_keras_model_7/graph_pool_14/Cast_5:0\", shape=(2,), dtype=int32))) to a dense Tensor of unknown shape. This may consume a large amount of memory.\n",
            "  \"shape. This may consume a large amount of memory.\" % value)\n",
            "/usr/local/lib/python3.6/dist-packages/tensorflow/python/framework/indexed_slices.py:437: UserWarning: Converting sparse IndexedSlices(IndexedSlices(indices=Tensor(\"gradient_tape/private__graph_conv_keras_model_7/graph_pool_14/Reshape_20:0\", shape=(1905,), dtype=int32), values=Tensor(\"gradient_tape/private__graph_conv_keras_model_7/graph_pool_14/Reshape_19:0\", shape=(1905, 64), dtype=float32), dense_shape=Tensor(\"gradient_tape/private__graph_conv_keras_model_7/graph_pool_14/Cast_6:0\", shape=(2,), dtype=int32))) to a dense Tensor of unknown shape. This may consume a large amount of memory.\n",
            "  \"shape. This may consume a large amount of memory.\" % value)\n",
            "/usr/local/lib/python3.6/dist-packages/tensorflow/python/framework/indexed_slices.py:437: UserWarning: Converting sparse IndexedSlices(IndexedSlices(indices=Tensor(\"gradient_tape/private__graph_conv_keras_model_7/graph_pool_14/Reshape_23:0\", shape=(192,), dtype=int32), values=Tensor(\"gradient_tape/private__graph_conv_keras_model_7/graph_pool_14/Reshape_22:0\", shape=(192, 64), dtype=float32), dense_shape=Tensor(\"gradient_tape/private__graph_conv_keras_model_7/graph_pool_14/Cast_7:0\", shape=(2,), dtype=int32))) to a dense Tensor of unknown shape. This may consume a large amount of memory.\n",
            "  \"shape. This may consume a large amount of memory.\" % value)\n",
            "/usr/local/lib/python3.6/dist-packages/tensorflow/python/framework/indexed_slices.py:437: UserWarning: Converting sparse IndexedSlices(IndexedSlices(indices=Tensor(\"gradient_tape/private__graph_conv_keras_model_7/graph_pool_15/Reshape_14:0\", shape=(476,), dtype=int32), values=Tensor(\"gradient_tape/private__graph_conv_keras_model_7/graph_pool_15/Reshape_13:0\", shape=(476, 64), dtype=float32), dense_shape=Tensor(\"gradient_tape/private__graph_conv_keras_model_7/graph_pool_15/Cast_4:0\", shape=(2,), dtype=int32))) to a dense Tensor of unknown shape. This may consume a large amount of memory.\n",
            "  \"shape. This may consume a large amount of memory.\" % value)\n",
            "/usr/local/lib/python3.6/dist-packages/tensorflow/python/framework/indexed_slices.py:437: UserWarning: Converting sparse IndexedSlices(IndexedSlices(indices=Tensor(\"gradient_tape/private__graph_conv_keras_model_7/graph_pool_15/Reshape_17:0\", shape=(1760,), dtype=int32), values=Tensor(\"gradient_tape/private__graph_conv_keras_model_7/graph_pool_15/Reshape_16:0\", shape=(1760, 64), dtype=float32), dense_shape=Tensor(\"gradient_tape/private__graph_conv_keras_model_7/graph_pool_15/Cast_5:0\", shape=(2,), dtype=int32))) to a dense Tensor of unknown shape. This may consume a large amount of memory.\n",
            "  \"shape. This may consume a large amount of memory.\" % value)\n",
            "/usr/local/lib/python3.6/dist-packages/tensorflow/python/framework/indexed_slices.py:437: UserWarning: Converting sparse IndexedSlices(IndexedSlices(indices=Tensor(\"gradient_tape/private__graph_conv_keras_model_7/graph_pool_15/Reshape_20:0\", shape=(1938,), dtype=int32), values=Tensor(\"gradient_tape/private__graph_conv_keras_model_7/graph_pool_15/Reshape_19:0\", shape=(1938, 64), dtype=float32), dense_shape=Tensor(\"gradient_tape/private__graph_conv_keras_model_7/graph_pool_15/Cast_6:0\", shape=(2,), dtype=int32))) to a dense Tensor of unknown shape. This may consume a large amount of memory.\n",
            "  \"shape. This may consume a large amount of memory.\" % value)\n",
            "/usr/local/lib/python3.6/dist-packages/tensorflow/python/framework/indexed_slices.py:437: UserWarning: Converting sparse IndexedSlices(IndexedSlices(indices=Tensor(\"gradient_tape/private__graph_conv_keras_model_7/graph_pool_15/Reshape_23:0\", shape=(120,), dtype=int32), values=Tensor(\"gradient_tape/private__graph_conv_keras_model_7/graph_pool_15/Reshape_22:0\", shape=(120, 64), dtype=float32), dense_shape=Tensor(\"gradient_tape/private__graph_conv_keras_model_7/graph_pool_15/Cast_7:0\", shape=(2,), dtype=int32))) to a dense Tensor of unknown shape. This may consume a large amount of memory.\n",
            "  \"shape. This may consume a large amount of memory.\" % value)\n",
            "/usr/local/lib/python3.6/dist-packages/tensorflow/python/framework/indexed_slices.py:437: UserWarning: Converting sparse IndexedSlices(IndexedSlices(indices=Tensor(\"gradient_tape/private__graph_conv_keras_model_7/graph_conv_15/Reshape_11:0\", shape=(476,), dtype=int32), values=Tensor(\"gradient_tape/private__graph_conv_keras_model_7/graph_conv_15/Reshape_10:0\", shape=(476, 64), dtype=float32), dense_shape=Tensor(\"gradient_tape/private__graph_conv_keras_model_7/graph_conv_15/Cast:0\", shape=(2,), dtype=int32))) to a dense Tensor of unknown shape. This may consume a large amount of memory.\n",
            "  \"shape. This may consume a large amount of memory.\" % value)\n",
            "/usr/local/lib/python3.6/dist-packages/tensorflow/python/framework/indexed_slices.py:437: UserWarning: Converting sparse IndexedSlices(IndexedSlices(indices=Tensor(\"gradient_tape/private__graph_conv_keras_model_7/graph_conv_15/Reshape_13:0\", shape=(1760,), dtype=int32), values=Tensor(\"gradient_tape/private__graph_conv_keras_model_7/graph_conv_15/Reshape_12:0\", shape=(1760, 64), dtype=float32), dense_shape=Tensor(\"gradient_tape/private__graph_conv_keras_model_7/graph_conv_15/Cast_1:0\", shape=(2,), dtype=int32))) to a dense Tensor of unknown shape. This may consume a large amount of memory.\n",
            "  \"shape. This may consume a large amount of memory.\" % value)\n",
            "/usr/local/lib/python3.6/dist-packages/tensorflow/python/framework/indexed_slices.py:437: UserWarning: Converting sparse IndexedSlices(IndexedSlices(indices=Tensor(\"gradient_tape/private__graph_conv_keras_model_7/graph_conv_15/Reshape_15:0\", shape=(1938,), dtype=int32), values=Tensor(\"gradient_tape/private__graph_conv_keras_model_7/graph_conv_15/Reshape_14:0\", shape=(1938, 64), dtype=float32), dense_shape=Tensor(\"gradient_tape/private__graph_conv_keras_model_7/graph_conv_15/Cast_2:0\", shape=(2,), dtype=int32))) to a dense Tensor of unknown shape. This may consume a large amount of memory.\n",
            "  \"shape. This may consume a large amount of memory.\" % value)\n",
            "/usr/local/lib/python3.6/dist-packages/tensorflow/python/framework/indexed_slices.py:437: UserWarning: Converting sparse IndexedSlices(IndexedSlices(indices=Tensor(\"gradient_tape/private__graph_conv_keras_model_7/graph_conv_15/Reshape_17:0\", shape=(120,), dtype=int32), values=Tensor(\"gradient_tape/private__graph_conv_keras_model_7/graph_conv_15/Reshape_16:0\", shape=(120, 64), dtype=float32), dense_shape=Tensor(\"gradient_tape/private__graph_conv_keras_model_7/graph_conv_15/Cast_3:0\", shape=(2,), dtype=int32))) to a dense Tensor of unknown shape. This may consume a large amount of memory.\n",
            "  \"shape. This may consume a large amount of memory.\" % value)\n",
            "/usr/local/lib/python3.6/dist-packages/tensorflow/python/framework/indexed_slices.py:437: UserWarning: Converting sparse IndexedSlices(IndexedSlices(indices=Tensor(\"gradient_tape/private__graph_conv_keras_model_7/graph_pool_14/Reshape_14:0\", shape=(476,), dtype=int32), values=Tensor(\"gradient_tape/private__graph_conv_keras_model_7/graph_pool_14/Reshape_13:0\", shape=(476, 64), dtype=float32), dense_shape=Tensor(\"gradient_tape/private__graph_conv_keras_model_7/graph_pool_14/Cast_4:0\", shape=(2,), dtype=int32))) to a dense Tensor of unknown shape. This may consume a large amount of memory.\n",
            "  \"shape. This may consume a large amount of memory.\" % value)\n",
            "/usr/local/lib/python3.6/dist-packages/tensorflow/python/framework/indexed_slices.py:437: UserWarning: Converting sparse IndexedSlices(IndexedSlices(indices=Tensor(\"gradient_tape/private__graph_conv_keras_model_7/graph_pool_14/Reshape_17:0\", shape=(1760,), dtype=int32), values=Tensor(\"gradient_tape/private__graph_conv_keras_model_7/graph_pool_14/Reshape_16:0\", shape=(1760, 64), dtype=float32), dense_shape=Tensor(\"gradient_tape/private__graph_conv_keras_model_7/graph_pool_14/Cast_5:0\", shape=(2,), dtype=int32))) to a dense Tensor of unknown shape. This may consume a large amount of memory.\n",
            "  \"shape. This may consume a large amount of memory.\" % value)\n",
            "/usr/local/lib/python3.6/dist-packages/tensorflow/python/framework/indexed_slices.py:437: UserWarning: Converting sparse IndexedSlices(IndexedSlices(indices=Tensor(\"gradient_tape/private__graph_conv_keras_model_7/graph_pool_14/Reshape_20:0\", shape=(1938,), dtype=int32), values=Tensor(\"gradient_tape/private__graph_conv_keras_model_7/graph_pool_14/Reshape_19:0\", shape=(1938, 64), dtype=float32), dense_shape=Tensor(\"gradient_tape/private__graph_conv_keras_model_7/graph_pool_14/Cast_6:0\", shape=(2,), dtype=int32))) to a dense Tensor of unknown shape. This may consume a large amount of memory.\n",
            "  \"shape. This may consume a large amount of memory.\" % value)\n",
            "/usr/local/lib/python3.6/dist-packages/tensorflow/python/framework/indexed_slices.py:437: UserWarning: Converting sparse IndexedSlices(IndexedSlices(indices=Tensor(\"gradient_tape/private__graph_conv_keras_model_7/graph_pool_14/Reshape_23:0\", shape=(120,), dtype=int32), values=Tensor(\"gradient_tape/private__graph_conv_keras_model_7/graph_pool_14/Reshape_22:0\", shape=(120, 64), dtype=float32), dense_shape=Tensor(\"gradient_tape/private__graph_conv_keras_model_7/graph_pool_14/Cast_7:0\", shape=(2,), dtype=int32))) to a dense Tensor of unknown shape. This may consume a large amount of memory.\n",
            "  \"shape. This may consume a large amount of memory.\" % value)\n",
            "/usr/local/lib/python3.6/dist-packages/tensorflow/python/framework/indexed_slices.py:437: UserWarning: Converting sparse IndexedSlices(IndexedSlices(indices=Tensor(\"gradient_tape/private__graph_conv_keras_model_7/graph_pool_15/Reshape_14:0\", shape=(None,), dtype=int32), values=Tensor(\"gradient_tape/private__graph_conv_keras_model_7/graph_pool_15/Reshape_13:0\", shape=(None, 64), dtype=float32), dense_shape=Tensor(\"gradient_tape/private__graph_conv_keras_model_7/graph_pool_15/Cast_4:0\", shape=(2,), dtype=int32))) to a dense Tensor of unknown shape. This may consume a large amount of memory.\n",
            "  \"shape. This may consume a large amount of memory.\" % value)\n",
            "/usr/local/lib/python3.6/dist-packages/tensorflow/python/framework/indexed_slices.py:437: UserWarning: Converting sparse IndexedSlices(IndexedSlices(indices=Tensor(\"gradient_tape/private__graph_conv_keras_model_7/graph_pool_15/Reshape_17:0\", shape=(None,), dtype=int32), values=Tensor(\"gradient_tape/private__graph_conv_keras_model_7/graph_pool_15/Reshape_16:0\", shape=(None, 64), dtype=float32), dense_shape=Tensor(\"gradient_tape/private__graph_conv_keras_model_7/graph_pool_15/Cast_5:0\", shape=(2,), dtype=int32))) to a dense Tensor of unknown shape. This may consume a large amount of memory.\n",
            "  \"shape. This may consume a large amount of memory.\" % value)\n",
            "/usr/local/lib/python3.6/dist-packages/tensorflow/python/framework/indexed_slices.py:437: UserWarning: Converting sparse IndexedSlices(IndexedSlices(indices=Tensor(\"gradient_tape/private__graph_conv_keras_model_7/graph_pool_15/Reshape_20:0\", shape=(None,), dtype=int32), values=Tensor(\"gradient_tape/private__graph_conv_keras_model_7/graph_pool_15/Reshape_19:0\", shape=(None, 64), dtype=float32), dense_shape=Tensor(\"gradient_tape/private__graph_conv_keras_model_7/graph_pool_15/Cast_6:0\", shape=(2,), dtype=int32))) to a dense Tensor of unknown shape. This may consume a large amount of memory.\n",
            "  \"shape. This may consume a large amount of memory.\" % value)\n",
            "/usr/local/lib/python3.6/dist-packages/tensorflow/python/framework/indexed_slices.py:437: UserWarning: Converting sparse IndexedSlices(IndexedSlices(indices=Tensor(\"gradient_tape/private__graph_conv_keras_model_7/graph_pool_15/Reshape_23:0\", shape=(None,), dtype=int32), values=Tensor(\"gradient_tape/private__graph_conv_keras_model_7/graph_pool_15/Reshape_22:0\", shape=(None, 64), dtype=float32), dense_shape=Tensor(\"gradient_tape/private__graph_conv_keras_model_7/graph_pool_15/Cast_7:0\", shape=(2,), dtype=int32))) to a dense Tensor of unknown shape. This may consume a large amount of memory.\n",
            "  \"shape. This may consume a large amount of memory.\" % value)\n",
            "/usr/local/lib/python3.6/dist-packages/tensorflow/python/framework/indexed_slices.py:437: UserWarning: Converting sparse IndexedSlices(IndexedSlices(indices=Tensor(\"gradient_tape/private__graph_conv_keras_model_7/graph_conv_15/Reshape_11:0\", shape=(None,), dtype=int32), values=Tensor(\"gradient_tape/private__graph_conv_keras_model_7/graph_conv_15/Reshape_10:0\", shape=(None, 64), dtype=float32), dense_shape=Tensor(\"gradient_tape/private__graph_conv_keras_model_7/graph_conv_15/Cast:0\", shape=(2,), dtype=int32))) to a dense Tensor of unknown shape. This may consume a large amount of memory.\n",
            "  \"shape. This may consume a large amount of memory.\" % value)\n",
            "/usr/local/lib/python3.6/dist-packages/tensorflow/python/framework/indexed_slices.py:437: UserWarning: Converting sparse IndexedSlices(IndexedSlices(indices=Tensor(\"gradient_tape/private__graph_conv_keras_model_7/graph_conv_15/Reshape_13:0\", shape=(None,), dtype=int32), values=Tensor(\"gradient_tape/private__graph_conv_keras_model_7/graph_conv_15/Reshape_12:0\", shape=(None, 64), dtype=float32), dense_shape=Tensor(\"gradient_tape/private__graph_conv_keras_model_7/graph_conv_15/Cast_1:0\", shape=(2,), dtype=int32))) to a dense Tensor of unknown shape. This may consume a large amount of memory.\n",
            "  \"shape. This may consume a large amount of memory.\" % value)\n",
            "/usr/local/lib/python3.6/dist-packages/tensorflow/python/framework/indexed_slices.py:437: UserWarning: Converting sparse IndexedSlices(IndexedSlices(indices=Tensor(\"gradient_tape/private__graph_conv_keras_model_7/graph_conv_15/Reshape_15:0\", shape=(None,), dtype=int32), values=Tensor(\"gradient_tape/private__graph_conv_keras_model_7/graph_conv_15/Reshape_14:0\", shape=(None, 64), dtype=float32), dense_shape=Tensor(\"gradient_tape/private__graph_conv_keras_model_7/graph_conv_15/Cast_2:0\", shape=(2,), dtype=int32))) to a dense Tensor of unknown shape. This may consume a large amount of memory.\n",
            "  \"shape. This may consume a large amount of memory.\" % value)\n",
            "/usr/local/lib/python3.6/dist-packages/tensorflow/python/framework/indexed_slices.py:437: UserWarning: Converting sparse IndexedSlices(IndexedSlices(indices=Tensor(\"gradient_tape/private__graph_conv_keras_model_7/graph_conv_15/Reshape_17:0\", shape=(None,), dtype=int32), values=Tensor(\"gradient_tape/private__graph_conv_keras_model_7/graph_conv_15/Reshape_16:0\", shape=(None, 64), dtype=float32), dense_shape=Tensor(\"gradient_tape/private__graph_conv_keras_model_7/graph_conv_15/Cast_3:0\", shape=(2,), dtype=int32))) to a dense Tensor of unknown shape. This may consume a large amount of memory.\n",
            "  \"shape. This may consume a large amount of memory.\" % value)\n",
            "/usr/local/lib/python3.6/dist-packages/tensorflow/python/framework/indexed_slices.py:437: UserWarning: Converting sparse IndexedSlices(IndexedSlices(indices=Tensor(\"gradient_tape/private__graph_conv_keras_model_7/graph_pool_14/Reshape_14:0\", shape=(None,), dtype=int32), values=Tensor(\"gradient_tape/private__graph_conv_keras_model_7/graph_pool_14/Reshape_13:0\", shape=(None, 64), dtype=float32), dense_shape=Tensor(\"gradient_tape/private__graph_conv_keras_model_7/graph_pool_14/Cast_4:0\", shape=(2,), dtype=int32))) to a dense Tensor of unknown shape. This may consume a large amount of memory.\n",
            "  \"shape. This may consume a large amount of memory.\" % value)\n",
            "/usr/local/lib/python3.6/dist-packages/tensorflow/python/framework/indexed_slices.py:437: UserWarning: Converting sparse IndexedSlices(IndexedSlices(indices=Tensor(\"gradient_tape/private__graph_conv_keras_model_7/graph_pool_14/Reshape_17:0\", shape=(None,), dtype=int32), values=Tensor(\"gradient_tape/private__graph_conv_keras_model_7/graph_pool_14/Reshape_16:0\", shape=(None, 64), dtype=float32), dense_shape=Tensor(\"gradient_tape/private__graph_conv_keras_model_7/graph_pool_14/Cast_5:0\", shape=(2,), dtype=int32))) to a dense Tensor of unknown shape. This may consume a large amount of memory.\n",
            "  \"shape. This may consume a large amount of memory.\" % value)\n",
            "/usr/local/lib/python3.6/dist-packages/tensorflow/python/framework/indexed_slices.py:437: UserWarning: Converting sparse IndexedSlices(IndexedSlices(indices=Tensor(\"gradient_tape/private__graph_conv_keras_model_7/graph_pool_14/Reshape_20:0\", shape=(None,), dtype=int32), values=Tensor(\"gradient_tape/private__graph_conv_keras_model_7/graph_pool_14/Reshape_19:0\", shape=(None, 64), dtype=float32), dense_shape=Tensor(\"gradient_tape/private__graph_conv_keras_model_7/graph_pool_14/Cast_6:0\", shape=(2,), dtype=int32))) to a dense Tensor of unknown shape. This may consume a large amount of memory.\n",
            "  \"shape. This may consume a large amount of memory.\" % value)\n",
            "/usr/local/lib/python3.6/dist-packages/tensorflow/python/framework/indexed_slices.py:437: UserWarning: Converting sparse IndexedSlices(IndexedSlices(indices=Tensor(\"gradient_tape/private__graph_conv_keras_model_7/graph_pool_14/Reshape_23:0\", shape=(None,), dtype=int32), values=Tensor(\"gradient_tape/private__graph_conv_keras_model_7/graph_pool_14/Reshape_22:0\", shape=(None, 64), dtype=float32), dense_shape=Tensor(\"gradient_tape/private__graph_conv_keras_model_7/graph_pool_14/Cast_7:0\", shape=(2,), dtype=int32))) to a dense Tensor of unknown shape. This may consume a large amount of memory.\n",
            "  \"shape. This may consume a large amount of memory.\" % value)\n"
          ],
          "name": "stderr"
        },
        {
          "output_type": "execute_result",
          "data": {
            "text/plain": [
              "1.1091433715820314"
            ]
          },
          "metadata": {
            "tags": []
          },
          "execution_count": 193
        }
      ]
    },
    {
      "cell_type": "code",
      "metadata": {
        "colab": {
          "base_uri": "https://localhost:8080/"
        },
        "id": "LJc90fs_5zGs",
        "outputId": "566096aa-90c2-454c-9d0d-835eeac0aef0"
      },
      "source": [
        "# Evaluate model: Pearson correlation (also called r^2)\n",
        "# perfect correlation is 1; no correlation is 0\n",
        "metric = dc.metrics.Metric(dc.metrics.pearson_r2_score)\n",
        "print(\"Training set score:\", model.evaluate(train_dataset, [metric], transformers))\n",
        "print(\"Test set score:\", model.evaluate(test_dataset, [metric], transformers))"
      ],
      "execution_count": 194,
      "outputs": [
        {
          "output_type": "stream",
          "text": [
            "Training set score: {'pearson_r2_score': 0.9008766558156818}\n",
            "Test set score: {'pearson_r2_score': 0.5996966531355992}\n"
          ],
          "name": "stdout"
        }
      ]
    },
    {
      "cell_type": "code",
      "metadata": {
        "id": "a82MXVBOFBEL"
      },
      "source": [
        "import seaborn as sns\r\n",
        "pred = model.predict(test_dataset)\r\n",
        "real = test_dataset.y"
      ],
      "execution_count": 205,
      "outputs": []
    },
    {
      "cell_type": "code",
      "metadata": {
        "id": "EhdMC3uPGPuR"
      },
      "source": [
        "d = {'pred':pred[:,0].tolist(), 'real':real.tolist()}\r\n",
        "df = pd.DataFrame(data=d)\r\n",
        "df.head(50)"
      ],
      "execution_count": null,
      "outputs": []
    },
    {
      "cell_type": "code",
      "metadata": {
        "colab": {
          "base_uri": "https://localhost:8080/",
          "height": 352
        },
        "id": "ERmQvUbyIhqa",
        "outputId": "89d7cdd1-0ee6-4ef8-f38c-bc0e9b95ec18"
      },
      "source": [
        "sns.scatterplot(df['pred'], df['real'])"
      ],
      "execution_count": 222,
      "outputs": [
        {
          "output_type": "stream",
          "text": [
            "/usr/local/lib/python3.6/dist-packages/seaborn/_decorators.py:43: FutureWarning: Pass the following variables as keyword args: x, y. From version 0.12, the only valid positional argument will be `data`, and passing other arguments without an explicit keyword will result in an error or misinterpretation.\n",
            "  FutureWarning\n"
          ],
          "name": "stderr"
        },
        {
          "output_type": "execute_result",
          "data": {
            "text/plain": [
              "<matplotlib.axes._subplots.AxesSubplot at 0x7f1eb506bd68>"
            ]
          },
          "metadata": {
            "tags": []
          },
          "execution_count": 222
        },
        {
          "output_type": "display_data",
          "data": {
            "image/png": "[encoded data removed]",
            "text/plain": [
              "<Figure size 432x288 with 1 Axes>"
            ]
          },
          "metadata": {
            "tags": [],
            "needs_background": "light"
          }
        }
      ]
    }
  ]
}